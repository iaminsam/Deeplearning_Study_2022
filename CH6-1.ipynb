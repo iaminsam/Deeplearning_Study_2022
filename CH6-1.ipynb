{
 "cells": [
  {
   "cell_type": "code",
   "execution_count": null,
   "metadata": {},
   "outputs": [],
   "source": [
    "# 과일사진 데이터 준비하기\n",
    "!wget https://bit.ly/fruits_300_data -O fruits_300.npy\n",
    "\n",
    "import numpy as np\n",
    "import matplotlib.pyplot as plt\n",
    "\n",
    "fruits = np.load('fruits_300.npy')\n",
    "\n",
    "print(fruits.shape)"
   ]
  },
  {
   "cell_type": "code",
   "execution_count": null,
   "metadata": {},
   "outputs": [],
   "source": [
    "print(fruits[0, 0, :])"
   ]
  },
  {
   "cell_type": "code",
   "execution_count": null,
   "metadata": {},
   "outputs": [],
   "source": [
    "plt.imshow(fruits[0], cmap='gray')\n",
    "plt.show()"
   ]
  },
  {
   "cell_type": "code",
   "execution_count": null,
   "metadata": {},
   "outputs": [],
   "source": [
    "plt.imshow(fruits[0], cmap='gray_r')\n",
    "plt.show()"
   ]
  },
  {
   "cell_type": "code",
   "execution_count": null,
   "metadata": {},
   "outputs": [],
   "source": [
    "fig, axs = plt.subplots(1, 2)\n",
    "axs[0].imshow(fruits[100], cmap='gray_r')\n",
    "axs[1].imshow(fruits[200], cmap='gray_r')\n",
    "plt.show()"
   ]
  },
  {
   "cell_type": "code",
   "execution_count": null,
   "metadata": {},
   "outputs": [],
   "source": [
    "# 픽셀값 분석하기\n",
    "apple = fruits[0:100].reshape(-1, 100*100)\n",
    "pineapple = fruits[100:200].reshape(-1, 100*100)\n",
    "banana = fruits[200:300].reshape(-1, 100*100)\n",
    "\n",
    "print(apple.shape)"
   ]
  },
  {
   "cell_type": "code",
   "execution_count": null,
   "metadata": {},
   "outputs": [],
   "source": [
    "print(apple.mean(axis=1))"
   ]
  },
  {
   "cell_type": "code",
   "execution_count": null,
   "metadata": {},
   "outputs": [],
   "source": [
    "plt.hist(np.mean(apple, axis=1), alpha=0.8)\n",
    "plt.hist(np.mean(pineapple, axis=1), alpha=0.8)\n",
    "plt.hist(np.mean(banana, axis=1), alpha=0.8)\n",
    "plt.legend(['apple', 'pineapple', 'banana'])\n",
    "plt.show()"
   ]
  },
  {
   "cell_type": "code",
   "execution_count": null,
   "metadata": {},
   "outputs": [],
   "source": [
    "fig, axs = plt.subplots(1, 3, figsize=(20, 5))\n",
    "axs[0].bar(range(10000), np.mean(apple, axis=0))\n",
    "axs[1].bar(range(10000), np.mean(pineapple, axis=0))\n",
    "axs[2].bar(range(10000), np.mean(banana, axis=0))\n",
    "plt.show()"
   ]
  },
  {
   "cell_type": "code",
   "execution_count": null,
   "metadata": {},
   "outputs": [],
   "source": [
    "apple_mean = np.mean(apple, axis=0).reshape(100, 100)\n",
    "pineapple_mean = np.mean(pineapple, axis=0).reshape(100, 100)\n",
    "banana_mean = np.mean(banana, axis=0).reshape(100, 100)\n",
    "\n",
    "fig, axs = plt.subplots(1, 3, figsize=(20, 5))\n",
    "axs[0].imshow(apple_mean, cmap='gray_r')\n",
    "axs[1].imshow(pineapple_mean, cmap='gray_r')\n",
    "axs[2].imshow(banana_mean, cmap='gray_r')\n",
    "plt.show()"
   ]
  },
  {
   "cell_type": "code",
   "execution_count": null,
   "metadata": {},
   "outputs": [],
   "source": [
    "# 평균값과 가까운 사진 고르기\n",
    "abs_diff = np.abs(fruits - apple_mean)\n",
    "abs_mean = np.mean(abs_diff, axis=(1,2))\n",
    "print(abs_mean.shape)"
   ]
  },
  {
   "cell_type": "code",
   "execution_count": null,
   "metadata": {},
   "outputs": [],
   "source": [
    "apple_index = np.argsort(abs_mean)[:100]\n",
    "fig, axs = plt.subplots(10, 10, figsize=(10,10))\n",
    "for i in range(10):\n",
    "    for j in range(10):\n",
    "        axs[i, j].imshow(fruits[apple_index[i*10 + j]], cmap='gray_r')\n",
    "        axs[i, j].axis('off')\n",
    "plt.show()"
   ]
  },
  {
   "cell_type": "code",
   "execution_count": null,
   "metadata": {},
   "outputs": [],
   "source": [
    "# 확인문제"
   ]
  }
 ],
 "metadata": {
  "language_info": {
   "name": "python"
  },
  "orig_nbformat": 4
 },
 "nbformat": 4,
 "nbformat_minor": 2
}
